{
 "cells": [
  {
   "cell_type": "markdown",
   "metadata": {},
   "source": [
    "# Projecte github"
   ]
  },
  {
   "cell_type": "markdown",
   "metadata": {},
   "source": [
    "# Imports"
   ]
  },
  {
   "cell_type": "code",
   "execution_count": 357,
   "metadata": {
    "scrolled": true
   },
   "outputs": [],
   "source": [
    "# Draw the plots immediately after the current cell\n",
    "%matplotlib inline\n",
    "import matplotlib.pyplot as plt\n",
    "import matplotlib.cm as cm\n",
    "import matplotlib.patches as mpatches\n",
    "plt.style.use('default')\n",
    "\n",
    "import pandas as pd\n",
    "import numpy as np\n",
    "# Uncomment the following line to install pymysql\n",
    "#!pip install PyMySQL\n",
    "import pymysql\n",
    "import warnings\n",
    "\n",
    "from sklearn.preprocessing import StandardScaler\n",
    "from sklearn.decomposition import PCA\n",
    "\n",
    "\n",
    "# POLARS # <- teacher said that this one is 1000% faster than pandas."
   ]
  },
  {
   "cell_type": "markdown",
   "metadata": {},
   "source": [
    "# Project configuration\n",
    "\n",
    "The file that we are going to use to set up the basic structure:\n",
    "\n",
    "GitHubScraper/JupyterNotebook/Structure/githubProjectStructure.sql\n",
    "\n",
    "from the github repository.\n",
    "\n",
    "### Step 1, import the structure\n",
    "In workbench: \n",
    "\"Server\" -> \"Data Import\", and then you should select the direction of \"githubProjectStructure.sql\" using the 3 dots and import from self-contained file like in the following image:\n",
    "\n",
    "![Javatpoint](./Images/Project_Setup/data_import.png)  \n",
    "\n",
    "Then scroll down, and create a new Schema by clicking on the \"New...\" button. Name it: \"githubProject\".\n",
    "\n",
    "![Javatpoint](./Images/Project_Setup/create_new_schema.png)  \n",
    "\n",
    "Scroll to the bottom, and in the bottom right, click on \"Start import\". If there are no errors, it will transitionate to \"Import progress\" and indicate success.\n",
    "\n",
    "Refresh the scehmas:\n",
    "\n",
    "![Javatpoint](./Images/Project_Setup/refresh.png)  \n",
    "\n",
    "### Step 2, importing the data from the csv files\n",
    "\n",
    "Download the csv files [here](https://drive.google.com/drive/folders/1NWhfFss0_M9V_clkcE9TH-Fy3oIEndWV?usp=sharing).\n",
    "\n",
    "Selecting the \"githubProject\" scheme, right click and \"Table Data Import Wizard\", with this, we are going to import each csv file to the matching table.\n",
    "\n",
    "You have to select the .csv you want to import, for example in this case, the trendVisits.csv\n",
    "\n",
    "![Javatpoint](./Images/Project_Setup/file_import.png) \n",
    "\n",
    "Then, since you already have the structure, you have to use the existing table that matches with the correct csv file:\n",
    "\n",
    "![Javatpoint](./Images/Project_Setup/use_existing.png) \n",
    "\n",
    "After that, check that the variables type are correct and import it. Do this for each csv file.\n",
    "\n",
    "You can also verify the data by doing this:\n",
    "\n",
    "![Javatpoint](./Images/Project_Setup/verify.png) \n",
    "\n"
   ]
  },
  {
   "cell_type": "markdown",
   "metadata": {},
   "source": [
    "# Introduction\n",
    "\n",
    "TODO index or sections indicating what are we doing..."
   ]
  },
  {
   "cell_type": "code",
   "execution_count": 358,
   "metadata": {},
   "outputs": [
    {
     "ename": "TypeError",
     "evalue": "category must be a Warning subclass, not 'OperationalError'",
     "output_type": "error",
     "traceback": [
      "\u001b[0;31m---------------------------------------------------------------------------\u001b[0m",
      "\u001b[0;31mOperationalError\u001b[0m                          Traceback (most recent call last)",
      "Cell \u001b[0;32mIn[358], line 5\u001b[0m, in \u001b[0;36mtryToConnectMySQL\u001b[0;34m(db_name, db_host, db_port, db_username, db_password)\u001b[0m\n\u001b[1;32m      4\u001b[0m \u001b[38;5;28;01mtry\u001b[39;00m:\n\u001b[0;32m----> 5\u001b[0m     conn \u001b[38;5;241m=\u001b[39m pymysql\u001b[38;5;241m.\u001b[39mconnect(host\u001b[38;5;241m=\u001b[39mdb_host,\n\u001b[1;32m      6\u001b[0m                            port\u001b[38;5;241m=\u001b[39mdb_port,\n\u001b[1;32m      7\u001b[0m                            user\u001b[38;5;241m=\u001b[39mdb_username,\n\u001b[1;32m      8\u001b[0m                            password\u001b[38;5;241m=\u001b[39mdb_password,\n\u001b[1;32m      9\u001b[0m                            db\u001b[38;5;241m=\u001b[39mdb_name)\n\u001b[1;32m     10\u001b[0m     \u001b[38;5;28;01mif\u001b[39;00m conn:\n",
      "File \u001b[0;32m~/anaconda3/lib/python3.11/site-packages/pymysql/connections.py:361\u001b[0m, in \u001b[0;36mConnection.__init__\u001b[0;34m(self, user, password, host, database, unix_socket, port, charset, collation, sql_mode, read_default_file, conv, use_unicode, client_flag, cursorclass, init_command, connect_timeout, read_default_group, autocommit, local_infile, max_allowed_packet, defer_connect, auth_plugin_map, read_timeout, write_timeout, bind_address, binary_prefix, program_name, server_public_key, ssl, ssl_ca, ssl_cert, ssl_disabled, ssl_key, ssl_key_password, ssl_verify_cert, ssl_verify_identity, compress, named_pipe, passwd, db)\u001b[0m\n\u001b[1;32m    360\u001b[0m \u001b[38;5;28;01melse\u001b[39;00m:\n\u001b[0;32m--> 361\u001b[0m     \u001b[38;5;28mself\u001b[39m\u001b[38;5;241m.\u001b[39mconnect()\n",
      "File \u001b[0;32m~/anaconda3/lib/python3.11/site-packages/pymysql/connections.py:669\u001b[0m, in \u001b[0;36mConnection.connect\u001b[0;34m(self, sock)\u001b[0m\n\u001b[1;32m    668\u001b[0m \u001b[38;5;28mself\u001b[39m\u001b[38;5;241m.\u001b[39m_get_server_information()\n\u001b[0;32m--> 669\u001b[0m \u001b[38;5;28mself\u001b[39m\u001b[38;5;241m.\u001b[39m_request_authentication()\n\u001b[1;32m    671\u001b[0m \u001b[38;5;66;03m# Send \"SET NAMES\" query on init for:\u001b[39;00m\n\u001b[1;32m    672\u001b[0m \u001b[38;5;66;03m# - Ensure charaset (and collation) is set to the server.\u001b[39;00m\n\u001b[1;32m    673\u001b[0m \u001b[38;5;66;03m#   - collation_id in handshake packet may be ignored.\u001b[39;00m\n\u001b[0;32m   (...)\u001b[0m\n\u001b[1;32m    682\u001b[0m \u001b[38;5;66;03m# - https://github.com/wagtail/wagtail/issues/9477\u001b[39;00m\n\u001b[1;32m    683\u001b[0m \u001b[38;5;66;03m# - https://zenn.dev/methane/articles/2023-mysql-collation (Japanese)\u001b[39;00m\n",
      "File \u001b[0;32m~/anaconda3/lib/python3.11/site-packages/pymysql/connections.py:957\u001b[0m, in \u001b[0;36mConnection._request_authentication\u001b[0;34m(self)\u001b[0m\n\u001b[1;32m    956\u001b[0m \u001b[38;5;28mself\u001b[39m\u001b[38;5;241m.\u001b[39mwrite_packet(data)\n\u001b[0;32m--> 957\u001b[0m auth_packet \u001b[38;5;241m=\u001b[39m \u001b[38;5;28mself\u001b[39m\u001b[38;5;241m.\u001b[39m_read_packet()\n\u001b[1;32m    959\u001b[0m \u001b[38;5;66;03m# if authentication method isn't accepted the first byte\u001b[39;00m\n\u001b[1;32m    960\u001b[0m \u001b[38;5;66;03m# will have the octet 254\u001b[39;00m\n",
      "File \u001b[0;32m~/anaconda3/lib/python3.11/site-packages/pymysql/connections.py:775\u001b[0m, in \u001b[0;36mConnection._read_packet\u001b[0;34m(self, packet_type)\u001b[0m\n\u001b[1;32m    774\u001b[0m         \u001b[38;5;28mself\u001b[39m\u001b[38;5;241m.\u001b[39m_result\u001b[38;5;241m.\u001b[39munbuffered_active \u001b[38;5;241m=\u001b[39m \u001b[38;5;28;01mFalse\u001b[39;00m\n\u001b[0;32m--> 775\u001b[0m     packet\u001b[38;5;241m.\u001b[39mraise_for_error()\n\u001b[1;32m    776\u001b[0m \u001b[38;5;28;01mreturn\u001b[39;00m packet\n",
      "File \u001b[0;32m~/anaconda3/lib/python3.11/site-packages/pymysql/protocol.py:219\u001b[0m, in \u001b[0;36mMysqlPacket.raise_for_error\u001b[0;34m(self)\u001b[0m\n\u001b[1;32m    218\u001b[0m     \u001b[38;5;28mprint\u001b[39m(\u001b[38;5;124m\"\u001b[39m\u001b[38;5;124merrno =\u001b[39m\u001b[38;5;124m\"\u001b[39m, errno)\n\u001b[0;32m--> 219\u001b[0m err\u001b[38;5;241m.\u001b[39mraise_mysql_exception(\u001b[38;5;28mself\u001b[39m\u001b[38;5;241m.\u001b[39m_data)\n",
      "File \u001b[0;32m~/anaconda3/lib/python3.11/site-packages/pymysql/err.py:150\u001b[0m, in \u001b[0;36mraise_mysql_exception\u001b[0;34m(data)\u001b[0m\n\u001b[1;32m    149\u001b[0m     errorclass \u001b[38;5;241m=\u001b[39m InternalError \u001b[38;5;28;01mif\u001b[39;00m errno \u001b[38;5;241m<\u001b[39m \u001b[38;5;241m1000\u001b[39m \u001b[38;5;28;01melse\u001b[39;00m OperationalError\n\u001b[0;32m--> 150\u001b[0m \u001b[38;5;28;01mraise\u001b[39;00m errorclass(errno, errval)\n",
      "\u001b[0;31mOperationalError\u001b[0m: (1045, \"Access denied for user 'root'@'localhost' (using password: NO)\")",
      "\nDuring handling of the above exception, another exception occurred:\n",
      "\u001b[0;31mTypeError\u001b[0m                                 Traceback (most recent call last)",
      "Cell \u001b[0;32mIn[358], line 28\u001b[0m\n\u001b[1;32m     25\u001b[0m db_username \u001b[38;5;241m=\u001b[39m \u001b[38;5;124m\"\u001b[39m\u001b[38;5;124mroot\u001b[39m\u001b[38;5;124m\"\u001b[39m\n\u001b[1;32m     26\u001b[0m db_password \u001b[38;5;241m=\u001b[39m \u001b[38;5;28minput\u001b[39m(\u001b[38;5;124m\"\u001b[39m\u001b[38;5;124mInput your password\u001b[39m\u001b[38;5;124m\"\u001b[39m)\n\u001b[0;32m---> 28\u001b[0m dataBaseConnection \u001b[38;5;241m=\u001b[39m tryToConnectMySQL(db_name, db_host, db_port, db_username, db_password)\n",
      "Cell \u001b[0;32mIn[358], line 18\u001b[0m, in \u001b[0;36mtryToConnectMySQL\u001b[0;34m(db_name, db_host, db_port, db_username, db_password)\u001b[0m\n\u001b[1;32m     15\u001b[0m     \u001b[38;5;28;01mreturn\u001b[39;00m conn\n\u001b[1;32m     17\u001b[0m \u001b[38;5;28;01mexcept\u001b[39;00m pymysql\u001b[38;5;241m.\u001b[39mError \u001b[38;5;28;01mas\u001b[39;00m e:        \n\u001b[0;32m---> 18\u001b[0m     warnings\u001b[38;5;241m.\u001b[39mwarn(\u001b[38;5;124m\"\u001b[39m\u001b[38;5;124mError connecting to MySQL:\u001b[39m\u001b[38;5;124m\"\u001b[39m, e)\n\u001b[1;32m     19\u001b[0m     \u001b[38;5;28;01mreturn\u001b[39;00m \u001b[38;5;28;01mNone\u001b[39;00m\n",
      "\u001b[0;31mTypeError\u001b[0m: category must be a Warning subclass, not 'OperationalError'"
     ]
    }
   ],
   "source": [
    "#https://www.geeksforgeeks.org/connect-to-mysql-using-pymysql-in-python/\n",
    "# Connect to MySQL database\n",
    "def tryToConnectMySQL(db_name, db_host, db_port, db_username, db_password):\n",
    "    try:\n",
    "        conn = pymysql.connect(host=db_host,\n",
    "                               port=db_port,\n",
    "                               user=db_username,\n",
    "                               password=db_password,\n",
    "                               db=db_name)\n",
    "        if conn:\n",
    "            print(\"Connection successful\")\n",
    "        else:\n",
    "            print(\"Error\")\n",
    "        \n",
    "        return conn\n",
    "        \n",
    "    except pymysql.Error as e:        \n",
    "        warnings.warn(\"Error connecting to MySQL:\", e)\n",
    "        return None\n",
    "\n",
    "# Pass arguments from outside\n",
    "db_name = \"githubProject\"\n",
    "db_host = \"localhost\"\n",
    "db_port = 3306\n",
    "db_username = \"root\"\n",
    "db_password = input(\"Input your password\")\n",
    "\n",
    "dataBaseConnection = tryToConnectMySQL(db_name, db_host, db_port, db_username, db_password)"
   ]
  },
  {
   "cell_type": "code",
   "execution_count": null,
   "metadata": {},
   "outputs": [],
   "source": [
    "# Execute query and return data in pandas dataframe \n",
    "def execute_select_query(cursor, query):\n",
    "    try:\n",
    "        cursor.execute(query)\n",
    "        output = cursor.fetchall()\n",
    "        # Fetch column names from cursor's description\n",
    "        columns = [desc[0] for desc in cursor.description]\n",
    "        \n",
    "        # Convert output to pandas DataFrame\n",
    "        if output:\n",
    "            df = pd.DataFrame(output, columns=columns)\n",
    "            print(\"Query executed successfully!\")\n",
    "        return output, df\n",
    "            \n",
    "    except pymysql.Error as e:\n",
    "        print(\"Error executing query:\")\n",
    "        warnings.warn(str(e))\n",
    "        return None, None"
   ]
  },
  {
   "cell_type": "code",
   "execution_count": null,
   "metadata": {},
   "outputs": [],
   "source": [
    "# Obtain the cursos in order to interact with the DataBase\n",
    "cursor = dataBaseConnection.cursor()"
   ]
  },
  {
   "cell_type": "markdown",
   "metadata": {},
   "source": [
    "# Tables\n",
    "Shows the table for the different entities of the Data Base."
   ]
  },
  {
   "cell_type": "markdown",
   "metadata": {},
   "source": [
    "## Repositories"
   ]
  },
  {
   "cell_type": "code",
   "execution_count": null,
   "metadata": {},
   "outputs": [
    {
     "name": "stdout",
     "output_type": "stream",
     "text": [
      "SELECT * FROM Repositories WHERE mainLanguage != \"\"\n",
      "Query executed successfully!\n"
     ]
    },
    {
     "data": {
      "text/html": [
       "<div>\n",
       "<style scoped>\n",
       "    .dataframe tbody tr th:only-of-type {\n",
       "        vertical-align: middle;\n",
       "    }\n",
       "\n",
       "    .dataframe tbody tr th {\n",
       "        vertical-align: top;\n",
       "    }\n",
       "\n",
       "    .dataframe thead th {\n",
       "        text-align: right;\n",
       "    }\n",
       "</style>\n",
       "<table border=\"1\" class=\"dataframe\">\n",
       "  <thead>\n",
       "    <tr style=\"text-align: right;\">\n",
       "      <th></th>\n",
       "      <th>owner</th>\n",
       "      <th>name</th>\n",
       "      <th>description</th>\n",
       "      <th>mainLanguage</th>\n",
       "      <th>license</th>\n",
       "    </tr>\n",
       "  </thead>\n",
       "  <tbody>\n",
       "    <tr>\n",
       "      <th>2037</th>\n",
       "      <td>syncany</td>\n",
       "      <td>syncany-plugin-flickr</td>\n",
       "      <td>Syncany Flickr Plugin (fun plugin)</td>\n",
       "      <td>Java</td>\n",
       "      <td>GPL-3.0 license</td>\n",
       "    </tr>\n",
       "    <tr>\n",
       "      <th>2038</th>\n",
       "      <td>syncany</td>\n",
       "      <td>syncany-plugin-gui</td>\n",
       "      <td>Syncany GUI Plugin</td>\n",
       "      <td>Java</td>\n",
       "      <td>GPL-3.0 license</td>\n",
       "    </tr>\n",
       "    <tr>\n",
       "      <th>2039</th>\n",
       "      <td>syncany</td>\n",
       "      <td>syncany-plugin-dropbox</td>\n",
       "      <td>Dropbox plugin for Syncany</td>\n",
       "      <td>Java</td>\n",
       "      <td>GPL-3.0 license</td>\n",
       "    </tr>\n",
       "    <tr>\n",
       "      <th>2040</th>\n",
       "      <td>syncany</td>\n",
       "      <td>syncany-plugin-simpleweb</td>\n",
       "      <td>Syncany Simple Web Interface plugin (outdated ...</td>\n",
       "      <td>Java</td>\n",
       "      <td>GPL-3.0 license</td>\n",
       "    </tr>\n",
       "    <tr>\n",
       "      <th>2041</th>\n",
       "      <td>syncany</td>\n",
       "      <td>syncany-plugin-webdav</td>\n",
       "      <td>Syncany WebDAV plugin</td>\n",
       "      <td>Java</td>\n",
       "      <td>GPL-3.0 license</td>\n",
       "    </tr>\n",
       "  </tbody>\n",
       "</table>\n",
       "</div>"
      ],
      "text/plain": [
       "        owner                      name  \\\n",
       "2037  syncany     syncany-plugin-flickr   \n",
       "2038  syncany        syncany-plugin-gui   \n",
       "2039  syncany    syncany-plugin-dropbox   \n",
       "2040  syncany  syncany-plugin-simpleweb   \n",
       "2041  syncany     syncany-plugin-webdav   \n",
       "\n",
       "                                            description mainLanguage  \\\n",
       "2037                 Syncany Flickr Plugin (fun plugin)         Java   \n",
       "2038                                 Syncany GUI Plugin         Java   \n",
       "2039                         Dropbox plugin for Syncany         Java   \n",
       "2040  Syncany Simple Web Interface plugin (outdated ...         Java   \n",
       "2041                              Syncany WebDAV plugin         Java   \n",
       "\n",
       "              license  \n",
       "2037  GPL-3.0 license  \n",
       "2038  GPL-3.0 license  \n",
       "2039  GPL-3.0 license  \n",
       "2040  GPL-3.0 license  \n",
       "2041  GPL-3.0 license  "
      ]
     },
     "execution_count": 204,
     "metadata": {},
     "output_type": "execute_result"
    }
   ],
   "source": [
    "query = \"SELECT * FROM Repositories WHERE mainLanguage != \\\"\\\"\"\n",
    "print(query)\n",
    "output_repo, df_repo = execute_select_query(cursor, query)\n",
    "df_repo.tail(5)"
   ]
  },
  {
   "cell_type": "code",
   "execution_count": null,
   "metadata": {},
   "outputs": [
    {
     "name": "stdout",
     "output_type": "stream",
     "text": [
      "Query executed successfully!\n"
     ]
    },
    {
     "data": {
      "text/html": [
       "<div>\n",
       "<style scoped>\n",
       "    .dataframe tbody tr th:only-of-type {\n",
       "        vertical-align: middle;\n",
       "    }\n",
       "\n",
       "    .dataframe tbody tr th {\n",
       "        vertical-align: top;\n",
       "    }\n",
       "\n",
       "    .dataframe thead th {\n",
       "        text-align: right;\n",
       "    }\n",
       "</style>\n",
       "<table border=\"1\" class=\"dataframe\">\n",
       "  <thead>\n",
       "    <tr style=\"text-align: right;\">\n",
       "      <th></th>\n",
       "      <th>date</th>\n",
       "      <th>owner</th>\n",
       "      <th>name</th>\n",
       "      <th>forks</th>\n",
       "      <th>commits</th>\n",
       "      <th>stars</th>\n",
       "      <th>watchers</th>\n",
       "      <th>contributors</th>\n",
       "      <th>openIssues</th>\n",
       "      <th>closedIssues</th>\n",
       "      <th>openPullRequests</th>\n",
       "      <th>closedPullRequests</th>\n",
       "    </tr>\n",
       "  </thead>\n",
       "  <tbody>\n",
       "    <tr>\n",
       "      <th>0</th>\n",
       "      <td>2024-03-03 09:29:47</td>\n",
       "      <td>go-gitea</td>\n",
       "      <td>gitea</td>\n",
       "      <td>5100</td>\n",
       "      <td>17384</td>\n",
       "      <td>-1</td>\n",
       "      <td>-1</td>\n",
       "      <td>-1</td>\n",
       "      <td>-1</td>\n",
       "      <td>-1</td>\n",
       "      <td>-1</td>\n",
       "      <td>-1</td>\n",
       "    </tr>\n",
       "    <tr>\n",
       "      <th>1</th>\n",
       "      <td>2024-03-03 09:29:48</td>\n",
       "      <td>colbyfayock</td>\n",
       "      <td>next-wordpress-starter</td>\n",
       "      <td>279</td>\n",
       "      <td>772</td>\n",
       "      <td>-1</td>\n",
       "      <td>-1</td>\n",
       "      <td>-1</td>\n",
       "      <td>-1</td>\n",
       "      <td>-1</td>\n",
       "      <td>-1</td>\n",
       "      <td>-1</td>\n",
       "    </tr>\n",
       "    <tr>\n",
       "      <th>2</th>\n",
       "      <td>2024-03-03 09:29:50</td>\n",
       "      <td>mattermost</td>\n",
       "      <td>mattermost</td>\n",
       "      <td>6700</td>\n",
       "      <td>18212</td>\n",
       "      <td>-1</td>\n",
       "      <td>-1</td>\n",
       "      <td>-1</td>\n",
       "      <td>-1</td>\n",
       "      <td>-1</td>\n",
       "      <td>-1</td>\n",
       "      <td>-1</td>\n",
       "    </tr>\n",
       "    <tr>\n",
       "      <th>3</th>\n",
       "      <td>2024-03-03 09:29:51</td>\n",
       "      <td>Luohuayu</td>\n",
       "      <td>CatServer</td>\n",
       "      <td>194</td>\n",
       "      <td>-1</td>\n",
       "      <td>-1</td>\n",
       "      <td>-1</td>\n",
       "      <td>-1</td>\n",
       "      <td>-1</td>\n",
       "      <td>-1</td>\n",
       "      <td>-1</td>\n",
       "      <td>-1</td>\n",
       "    </tr>\n",
       "    <tr>\n",
       "      <th>4</th>\n",
       "      <td>2024-03-03 09:29:57</td>\n",
       "      <td>hoppscotch</td>\n",
       "      <td>hoppscotch</td>\n",
       "      <td>4100</td>\n",
       "      <td>5164</td>\n",
       "      <td>-1</td>\n",
       "      <td>-1</td>\n",
       "      <td>-1</td>\n",
       "      <td>-1</td>\n",
       "      <td>-1</td>\n",
       "      <td>-1</td>\n",
       "      <td>-1</td>\n",
       "    </tr>\n",
       "  </tbody>\n",
       "</table>\n",
       "</div>"
      ],
      "text/plain": [
       "                  date        owner                    name  forks  commits  \\\n",
       "0  2024-03-03 09:29:47     go-gitea                   gitea   5100    17384   \n",
       "1  2024-03-03 09:29:48  colbyfayock  next-wordpress-starter    279      772   \n",
       "2  2024-03-03 09:29:50   mattermost              mattermost   6700    18212   \n",
       "3  2024-03-03 09:29:51     Luohuayu               CatServer    194       -1   \n",
       "4  2024-03-03 09:29:57   hoppscotch              hoppscotch   4100     5164   \n",
       "\n",
       "   stars  watchers  contributors  openIssues  closedIssues  openPullRequests  \\\n",
       "0     -1        -1            -1          -1            -1                -1   \n",
       "1     -1        -1            -1          -1            -1                -1   \n",
       "2     -1        -1            -1          -1            -1                -1   \n",
       "3     -1        -1            -1          -1            -1                -1   \n",
       "4     -1        -1            -1          -1            -1                -1   \n",
       "\n",
       "   closedPullRequests  \n",
       "0                  -1  \n",
       "1                  -1  \n",
       "2                  -1  \n",
       "3                  -1  \n",
       "4                  -1  "
      ]
     },
     "execution_count": 205,
     "metadata": {},
     "output_type": "execute_result"
    }
   ],
   "source": [
    "query = \"SELECT * FROM RepositoryVisits;\"\n",
    "\n",
    "output_repo_visists, df_repo_visists = execute_select_query(cursor, query)\n",
    "df_repo_visists.head(5)"
   ]
  },
  {
   "cell_type": "code",
   "execution_count": null,
   "metadata": {},
   "outputs": [
    {
     "name": "stdout",
     "output_type": "stream",
     "text": [
      "Query executed successfully!\n"
     ]
    },
    {
     "data": {
      "text/html": [
       "<div>\n",
       "<style scoped>\n",
       "    .dataframe tbody tr th:only-of-type {\n",
       "        vertical-align: middle;\n",
       "    }\n",
       "\n",
       "    .dataframe tbody tr th {\n",
       "        vertical-align: top;\n",
       "    }\n",
       "\n",
       "    .dataframe thead th {\n",
       "        text-align: right;\n",
       "    }\n",
       "</style>\n",
       "<table border=\"1\" class=\"dataframe\">\n",
       "  <thead>\n",
       "    <tr style=\"text-align: right;\">\n",
       "      <th></th>\n",
       "      <th>owner</th>\n",
       "      <th>repo</th>\n",
       "      <th>topic</th>\n",
       "    </tr>\n",
       "  </thead>\n",
       "  <tbody>\n",
       "    <tr>\n",
       "      <th>0</th>\n",
       "      <td>PinewoodPip</td>\n",
       "      <td>EpipEncounters</td>\n",
       "      <td>mod</td>\n",
       "    </tr>\n",
       "    <tr>\n",
       "      <th>1</th>\n",
       "      <td>PinewoodPip</td>\n",
       "      <td>EpipEncounters</td>\n",
       "      <td>divinity</td>\n",
       "    </tr>\n",
       "    <tr>\n",
       "      <th>2</th>\n",
       "      <td>PinewoodPip</td>\n",
       "      <td>EpipEncounters</td>\n",
       "      <td>divinity-original-sin-2</td>\n",
       "    </tr>\n",
       "    <tr>\n",
       "      <th>3</th>\n",
       "      <td>go-gitea</td>\n",
       "      <td>gitea</td>\n",
       "      <td>github</td>\n",
       "    </tr>\n",
       "    <tr>\n",
       "      <th>4</th>\n",
       "      <td>go-gitea</td>\n",
       "      <td>gitea</td>\n",
       "      <td>git</td>\n",
       "    </tr>\n",
       "  </tbody>\n",
       "</table>\n",
       "</div>"
      ],
      "text/plain": [
       "         owner            repo                    topic\n",
       "0  PinewoodPip  EpipEncounters                      mod\n",
       "1  PinewoodPip  EpipEncounters                 divinity\n",
       "2  PinewoodPip  EpipEncounters  divinity-original-sin-2\n",
       "3     go-gitea           gitea                   github\n",
       "4     go-gitea           gitea                      git"
      ]
     },
     "execution_count": 206,
     "metadata": {},
     "output_type": "execute_result"
    }
   ],
   "source": [
    "query = \"SELECT * FROM RepositoryTopics;\"\n",
    "\n",
    "output_repo_topics, df_repo_topics = execute_select_query(cursor, query)\n",
    "df_repo_topics.head(5)"
   ]
  },
  {
   "cell_type": "markdown",
   "metadata": {},
   "source": [
    "## Owners"
   ]
  },
  {
   "cell_type": "code",
   "execution_count": null,
   "metadata": {},
   "outputs": [
    {
     "name": "stdout",
     "output_type": "stream",
     "text": [
      "Query executed successfully!\n"
     ]
    },
    {
     "data": {
      "text/html": [
       "<div>\n",
       "<style scoped>\n",
       "    .dataframe tbody tr th:only-of-type {\n",
       "        vertical-align: middle;\n",
       "    }\n",
       "\n",
       "    .dataframe tbody tr th {\n",
       "        vertical-align: top;\n",
       "    }\n",
       "\n",
       "    .dataframe thead th {\n",
       "        text-align: right;\n",
       "    }\n",
       "</style>\n",
       "<table border=\"1\" class=\"dataframe\">\n",
       "  <thead>\n",
       "    <tr style=\"text-align: right;\">\n",
       "      <th></th>\n",
       "      <th>username</th>\n",
       "      <th>avatar_url</th>\n",
       "    </tr>\n",
       "  </thead>\n",
       "  <tbody>\n",
       "    <tr>\n",
       "      <th>0</th>\n",
       "      <td>PinewoodPip</td>\n",
       "      <td>https://avatars.githubusercontent.com/u/536469...</td>\n",
       "    </tr>\n",
       "    <tr>\n",
       "      <th>1</th>\n",
       "      <td>go-gitea</td>\n",
       "      <td>https://avatars.githubusercontent.com/u/127243...</td>\n",
       "    </tr>\n",
       "    <tr>\n",
       "      <th>2</th>\n",
       "      <td>colbyfayock</td>\n",
       "      <td>https://avatars.githubusercontent.com/u/104527...</td>\n",
       "    </tr>\n",
       "    <tr>\n",
       "      <th>3</th>\n",
       "      <td>mattermost</td>\n",
       "      <td>https://avatars.githubusercontent.com/u/497571...</td>\n",
       "    </tr>\n",
       "    <tr>\n",
       "      <th>4</th>\n",
       "      <td>Luohuayu</td>\n",
       "      <td>https://avatars.githubusercontent.com/u/290957...</td>\n",
       "    </tr>\n",
       "  </tbody>\n",
       "</table>\n",
       "</div>"
      ],
      "text/plain": [
       "      username                                         avatar_url\n",
       "0  PinewoodPip  https://avatars.githubusercontent.com/u/536469...\n",
       "1     go-gitea  https://avatars.githubusercontent.com/u/127243...\n",
       "2  colbyfayock  https://avatars.githubusercontent.com/u/104527...\n",
       "3   mattermost  https://avatars.githubusercontent.com/u/497571...\n",
       "4     Luohuayu  https://avatars.githubusercontent.com/u/290957..."
      ]
     },
     "execution_count": 207,
     "metadata": {},
     "output_type": "execute_result"
    }
   ],
   "source": [
    "query = \"SELECT * FROM Owners;\"\n",
    "# Use _ to ignore\n",
    "_, df_owners = execute_select_query(cursor, query)\n",
    "df_owners.head(5)"
   ]
  },
  {
   "cell_type": "code",
   "execution_count": null,
   "metadata": {},
   "outputs": [
    {
     "name": "stdout",
     "output_type": "stream",
     "text": [
      "Query executed successfully!\n"
     ]
    },
    {
     "data": {
      "text/html": [
       "<div>\n",
       "<style scoped>\n",
       "    .dataframe tbody tr th:only-of-type {\n",
       "        vertical-align: middle;\n",
       "    }\n",
       "\n",
       "    .dataframe tbody tr th {\n",
       "        vertical-align: top;\n",
       "    }\n",
       "\n",
       "    .dataframe thead th {\n",
       "        text-align: right;\n",
       "    }\n",
       "</style>\n",
       "<table border=\"1\" class=\"dataframe\">\n",
       "  <thead>\n",
       "    <tr style=\"text-align: right;\">\n",
       "      <th></th>\n",
       "      <th>date</th>\n",
       "      <th>username</th>\n",
       "      <th>contributionsLastYear</th>\n",
       "    </tr>\n",
       "  </thead>\n",
       "  <tbody>\n",
       "    <tr>\n",
       "      <th>0</th>\n",
       "      <td>2024-03-03 09:29:46</td>\n",
       "      <td>PinewoodPip</td>\n",
       "      <td>1774</td>\n",
       "    </tr>\n",
       "    <tr>\n",
       "      <th>1</th>\n",
       "      <td>2024-03-03 09:29:49</td>\n",
       "      <td>colbyfayock</td>\n",
       "      <td>1878</td>\n",
       "    </tr>\n",
       "    <tr>\n",
       "      <th>2</th>\n",
       "      <td>2024-03-03 09:29:56</td>\n",
       "      <td>Luohuayu</td>\n",
       "      <td>79</td>\n",
       "    </tr>\n",
       "    <tr>\n",
       "      <th>3</th>\n",
       "      <td>2024-03-03 09:30:03</td>\n",
       "      <td>jacopotediosi</td>\n",
       "      <td>376</td>\n",
       "    </tr>\n",
       "    <tr>\n",
       "      <th>4</th>\n",
       "      <td>2024-03-03 09:30:06</td>\n",
       "      <td>trekhleb</td>\n",
       "      <td>210</td>\n",
       "    </tr>\n",
       "  </tbody>\n",
       "</table>\n",
       "</div>"
      ],
      "text/plain": [
       "                  date       username  contributionsLastYear\n",
       "0  2024-03-03 09:29:46    PinewoodPip                   1774\n",
       "1  2024-03-03 09:29:49    colbyfayock                   1878\n",
       "2  2024-03-03 09:29:56       Luohuayu                     79\n",
       "3  2024-03-03 09:30:03  jacopotediosi                    376\n",
       "4  2024-03-03 09:30:06       trekhleb                    210"
      ]
     },
     "execution_count": 208,
     "metadata": {},
     "output_type": "execute_result"
    }
   ],
   "source": [
    "query = \"SELECT * FROM OwnerVisits;\"\n",
    "\n",
    "output_owner_visits, df_owner_visits = execute_select_query(cursor, query)\n",
    "df_owner_visits.head(5)"
   ]
  },
  {
   "cell_type": "markdown",
   "metadata": {},
   "source": [
    "## Commits"
   ]
  },
  {
   "cell_type": "code",
   "execution_count": null,
   "metadata": {},
   "outputs": [
    {
     "name": "stdout",
     "output_type": "stream",
     "text": [
      "Query executed successfully!\n"
     ]
    },
    {
     "data": {
      "text/html": [
       "<div>\n",
       "<style scoped>\n",
       "    .dataframe tbody tr th:only-of-type {\n",
       "        vertical-align: middle;\n",
       "    }\n",
       "\n",
       "    .dataframe tbody tr th {\n",
       "        vertical-align: top;\n",
       "    }\n",
       "\n",
       "    .dataframe thead th {\n",
       "        text-align: right;\n",
       "    }\n",
       "</style>\n",
       "<table border=\"1\" class=\"dataframe\">\n",
       "  <thead>\n",
       "    <tr style=\"text-align: right;\">\n",
       "      <th></th>\n",
       "      <th>sha</th>\n",
       "      <th>author</th>\n",
       "      <th>repository</th>\n",
       "      <th>repositoryOwner</th>\n",
       "      <th>message</th>\n",
       "    </tr>\n",
       "  </thead>\n",
       "  <tbody>\n",
       "    <tr>\n",
       "      <th>0</th>\n",
       "      <td>ea745d855eea318402d9ae9c9266c3657b1b96b4</td>\n",
       "      <td>PinewoodPip</td>\n",
       "      <td>ee2buildplanner</td>\n",
       "      <td>PinewoodPip</td>\n",
       "      <td>Add search bar functionality to aspect picker</td>\n",
       "    </tr>\n",
       "    <tr>\n",
       "      <th>1</th>\n",
       "      <td>00f8e2373d1a56681c8d67edca2b0bd6d0f2ee66</td>\n",
       "      <td>PinewoodPip</td>\n",
       "      <td>ee2buildplanner</td>\n",
       "      <td>PinewoodPip</td>\n",
       "      <td>Additional fixes to skill descriptions</td>\n",
       "    </tr>\n",
       "    <tr>\n",
       "      <th>2</th>\n",
       "      <td>9fd29f087f07bd6fe8b8c977df6de8490d768a92</td>\n",
       "      <td>PinewoodPip</td>\n",
       "      <td>ee2buildplanner</td>\n",
       "      <td>PinewoodPip</td>\n",
       "      <td>Add Dominatrix build and declare the app v1.0</td>\n",
       "    </tr>\n",
       "    <tr>\n",
       "      <th>3</th>\n",
       "      <td>6e0428cc190dd0d7fb7d33425fc1332b79096cf6</td>\n",
       "      <td>PinewoodPip</td>\n",
       "      <td>ee2buildplanner</td>\n",
       "      <td>PinewoodPip</td>\n",
       "      <td>Add armor runes and bump ver to 0.9.1</td>\n",
       "    </tr>\n",
       "    <tr>\n",
       "      <th>4</th>\n",
       "      <td>16d69f8f4639ffc265634c2e0b6e9d27c8d75c1e</td>\n",
       "      <td>PinewoodPip</td>\n",
       "      <td>ee2buildplanner</td>\n",
       "      <td>PinewoodPip</td>\n",
       "      <td>Update README.md</td>\n",
       "    </tr>\n",
       "  </tbody>\n",
       "</table>\n",
       "</div>"
      ],
      "text/plain": [
       "                                        sha       author       repository  \\\n",
       "0  ea745d855eea318402d9ae9c9266c3657b1b96b4  PinewoodPip  ee2buildplanner   \n",
       "1  00f8e2373d1a56681c8d67edca2b0bd6d0f2ee66  PinewoodPip  ee2buildplanner   \n",
       "2  9fd29f087f07bd6fe8b8c977df6de8490d768a92  PinewoodPip  ee2buildplanner   \n",
       "3  6e0428cc190dd0d7fb7d33425fc1332b79096cf6  PinewoodPip  ee2buildplanner   \n",
       "4  16d69f8f4639ffc265634c2e0b6e9d27c8d75c1e  PinewoodPip  ee2buildplanner   \n",
       "\n",
       "  repositoryOwner                                        message  \n",
       "0     PinewoodPip  Add search bar functionality to aspect picker  \n",
       "1     PinewoodPip         Additional fixes to skill descriptions  \n",
       "2     PinewoodPip  Add Dominatrix build and declare the app v1.0  \n",
       "3     PinewoodPip          Add armor runes and bump ver to 0.9.1  \n",
       "4     PinewoodPip                               Update README.md  "
      ]
     },
     "execution_count": 209,
     "metadata": {},
     "output_type": "execute_result"
    }
   ],
   "source": [
    "query = \"SELECT * FROM Commits;\"\n",
    "\n",
    "output_commits, df_commits = execute_select_query(cursor, query)\n",
    "df_commits.head(5)"
   ]
  },
  {
   "cell_type": "markdown",
   "metadata": {},
   "source": [
    "## Topics"
   ]
  },
  {
   "cell_type": "code",
   "execution_count": null,
   "metadata": {},
   "outputs": [
    {
     "name": "stdout",
     "output_type": "stream",
     "text": [
      "Query executed successfully!\n"
     ]
    },
    {
     "data": {
      "text/html": [
       "<div>\n",
       "<style scoped>\n",
       "    .dataframe tbody tr th:only-of-type {\n",
       "        vertical-align: middle;\n",
       "    }\n",
       "\n",
       "    .dataframe tbody tr th {\n",
       "        vertical-align: top;\n",
       "    }\n",
       "\n",
       "    .dataframe thead th {\n",
       "        text-align: right;\n",
       "    }\n",
       "</style>\n",
       "<table border=\"1\" class=\"dataframe\">\n",
       "  <thead>\n",
       "    <tr style=\"text-align: right;\">\n",
       "      <th></th>\n",
       "      <th>name</th>\n",
       "      <th>mainLanguage</th>\n",
       "    </tr>\n",
       "  </thead>\n",
       "  <tbody>\n",
       "    <tr>\n",
       "      <th>4945</th>\n",
       "      <td>formdata</td>\n",
       "      <td></td>\n",
       "    </tr>\n",
       "    <tr>\n",
       "      <th>4946</th>\n",
       "      <td>xhr2-fd</td>\n",
       "      <td></td>\n",
       "    </tr>\n",
       "    <tr>\n",
       "      <th>4947</th>\n",
       "      <td>kubeflow</td>\n",
       "      <td></td>\n",
       "    </tr>\n",
       "    <tr>\n",
       "      <th>4948</th>\n",
       "      <td>kubeflow-community</td>\n",
       "      <td></td>\n",
       "    </tr>\n",
       "    <tr>\n",
       "      <th>4949</th>\n",
       "      <td>decompilation</td>\n",
       "      <td></td>\n",
       "    </tr>\n",
       "  </tbody>\n",
       "</table>\n",
       "</div>"
      ],
      "text/plain": [
       "                    name mainLanguage\n",
       "4945            formdata             \n",
       "4946             xhr2-fd             \n",
       "4947            kubeflow             \n",
       "4948  kubeflow-community             \n",
       "4949       decompilation             "
      ]
     },
     "execution_count": 210,
     "metadata": {},
     "output_type": "execute_result"
    }
   ],
   "source": [
    "query = \"SELECT * FROM Topics;\"\n",
    "\n",
    "output_topics, df_topics = execute_select_query(cursor, query)\n",
    "df_topics.tail(5)"
   ]
  },
  {
   "cell_type": "code",
   "execution_count": null,
   "metadata": {},
   "outputs": [
    {
     "name": "stdout",
     "output_type": "stream",
     "text": [
      "Query executed successfully!\n"
     ]
    },
    {
     "data": {
      "text/html": [
       "<div>\n",
       "<style scoped>\n",
       "    .dataframe tbody tr th:only-of-type {\n",
       "        vertical-align: middle;\n",
       "    }\n",
       "\n",
       "    .dataframe tbody tr th {\n",
       "        vertical-align: top;\n",
       "    }\n",
       "\n",
       "    .dataframe thead th {\n",
       "        text-align: right;\n",
       "    }\n",
       "</style>\n",
       "<table border=\"1\" class=\"dataframe\">\n",
       "  <thead>\n",
       "    <tr style=\"text-align: right;\">\n",
       "      <th></th>\n",
       "      <th>date</th>\n",
       "      <th>name</th>\n",
       "      <th>repositories</th>\n",
       "      <th>followers</th>\n",
       "    </tr>\n",
       "  </thead>\n",
       "  <tbody>\n",
       "    <tr>\n",
       "      <th>0</th>\n",
       "      <td>2024-03-04</td>\n",
       "      <td>nodejs</td>\n",
       "      <td>238297</td>\n",
       "      <td>77600</td>\n",
       "    </tr>\n",
       "    <tr>\n",
       "      <th>1</th>\n",
       "      <td>2024-03-04</td>\n",
       "      <td>javascript</td>\n",
       "      <td>510373</td>\n",
       "      <td>169000</td>\n",
       "    </tr>\n",
       "    <tr>\n",
       "      <th>2</th>\n",
       "      <td>2024-03-04</td>\n",
       "      <td>npm</td>\n",
       "      <td>19224</td>\n",
       "      <td>28800</td>\n",
       "    </tr>\n",
       "    <tr>\n",
       "      <th>3</th>\n",
       "      <td>2024-03-04</td>\n",
       "      <td>next</td>\n",
       "      <td>4376</td>\n",
       "      <td>1500</td>\n",
       "    </tr>\n",
       "    <tr>\n",
       "      <th>4</th>\n",
       "      <td>2024-03-04</td>\n",
       "      <td>react</td>\n",
       "      <td>347483</td>\n",
       "      <td>98800</td>\n",
       "    </tr>\n",
       "  </tbody>\n",
       "</table>\n",
       "</div>"
      ],
      "text/plain": [
       "         date        name  repositories  followers\n",
       "0  2024-03-04      nodejs        238297      77600\n",
       "1  2024-03-04  javascript        510373     169000\n",
       "2  2024-03-04         npm         19224      28800\n",
       "3  2024-03-04        next          4376       1500\n",
       "4  2024-03-04       react        347483      98800"
      ]
     },
     "execution_count": 211,
     "metadata": {},
     "output_type": "execute_result"
    }
   ],
   "source": [
    "query = \"SELECT CAST(date AS Date) AS date, name, repositories, followers FROM TopicVisits;\"\n",
    "\n",
    "_, df_topic_visits = execute_select_query(cursor, query)\n",
    "df_topic_visits.head(5)"
   ]
  },
  {
   "cell_type": "markdown",
   "metadata": {},
   "source": [
    "## Trend"
   ]
  },
  {
   "cell_type": "code",
   "execution_count": null,
   "metadata": {},
   "outputs": [
    {
     "name": "stdout",
     "output_type": "stream",
     "text": [
      "Query executed successfully!\n"
     ]
    },
    {
     "data": {
      "text/html": [
       "<div>\n",
       "<style scoped>\n",
       "    .dataframe tbody tr th:only-of-type {\n",
       "        vertical-align: middle;\n",
       "    }\n",
       "\n",
       "    .dataframe tbody tr th {\n",
       "        vertical-align: top;\n",
       "    }\n",
       "\n",
       "    .dataframe thead th {\n",
       "        text-align: right;\n",
       "    }\n",
       "</style>\n",
       "<table border=\"1\" class=\"dataframe\">\n",
       "  <thead>\n",
       "    <tr style=\"text-align: right;\">\n",
       "      <th></th>\n",
       "      <th>date</th>\n",
       "      <th>repo_name</th>\n",
       "      <th>owner</th>\n",
       "      <th>starsToday</th>\n",
       "    </tr>\n",
       "  </thead>\n",
       "  <tbody>\n",
       "    <tr>\n",
       "      <th>0</th>\n",
       "      <td>2024-04-10 09:27:40</td>\n",
       "      <td>plandex-ai</td>\n",
       "      <td>plandex</td>\n",
       "      <td>1459</td>\n",
       "    </tr>\n",
       "    <tr>\n",
       "      <th>1</th>\n",
       "      <td>2024-04-10 09:27:40</td>\n",
       "      <td>nashsu</td>\n",
       "      <td>FreeAskInternet</td>\n",
       "      <td>1284</td>\n",
       "    </tr>\n",
       "    <tr>\n",
       "      <th>2</th>\n",
       "      <td>2024-04-10 09:27:40</td>\n",
       "      <td>drawdb-io</td>\n",
       "      <td>drawdb</td>\n",
       "      <td>665</td>\n",
       "    </tr>\n",
       "    <tr>\n",
       "      <th>3</th>\n",
       "      <td>2024-04-10 09:27:40</td>\n",
       "      <td>langgenius</td>\n",
       "      <td>dify</td>\n",
       "      <td>581</td>\n",
       "    </tr>\n",
       "    <tr>\n",
       "      <th>4</th>\n",
       "      <td>2024-04-10 09:27:40</td>\n",
       "      <td>PawanOsman</td>\n",
       "      <td>ChatGPT</td>\n",
       "      <td>410</td>\n",
       "    </tr>\n",
       "  </tbody>\n",
       "</table>\n",
       "</div>"
      ],
      "text/plain": [
       "                  date   repo_name            owner  starsToday\n",
       "0  2024-04-10 09:27:40  plandex-ai          plandex        1459\n",
       "1  2024-04-10 09:27:40      nashsu  FreeAskInternet        1284\n",
       "2  2024-04-10 09:27:40   drawdb-io           drawdb         665\n",
       "3  2024-04-10 09:27:40  langgenius             dify         581\n",
       "4  2024-04-10 09:27:40  PawanOsman          ChatGPT         410"
      ]
     },
     "execution_count": 212,
     "metadata": {},
     "output_type": "execute_result"
    }
   ],
   "source": [
    "query = \"SELECT * FROM TrendVisits;\"\n",
    "\n",
    "_, df_trend_visits = execute_select_query(cursor, query)\n",
    "df_trend_visits.head(5)"
   ]
  },
  {
   "cell_type": "markdown",
   "metadata": {},
   "source": [
    "# Analysis planning\n",
    "\n",
    "### Basic statistics\n",
    "* Distribution of main topics (bar or pie chart). Aka, in what proportion of our studied repos are they treated.\n",
    "* Distribution of languages (bar or pie chart). Like above.\n",
    "* Time evolution of interest in topics: repositories per topic, followers per topic.\n",
    "\n",
    "### Dimensional reduction for an overview on repositories\n",
    "What we mean here is to perform a PCA (principal components analysis) in order to able to have an insight on the structre of the whole dataset. We would then color the data points in it depending on the language used, for instance, to see if these groups have similar characteristics and lie close in the dataframe or not.\n",
    "* Create a dataframe containing all RepositoryVisits data for a certain date for all the studied repositories.\n",
    "* Perform a standarization on the data (i.e., to prevent some variables such as commits to be far more important than others such as forks).\n",
    "* Perform a PCA into 2 components on it.\n",
    "* Plot the results while clustering the points depending on different criteria:\n",
    "    + mainLanguage\n",
    "    + topic\n",
    "\n",
    "### Open questions\n",
    "* How to use stars and trends?\n",
    "* How to use contributions by owners?\n"
   ]
  },
  {
   "cell_type": "markdown",
   "metadata": {},
   "source": [
    "## Distributions"
   ]
  },
  {
   "cell_type": "code",
   "execution_count": null,
   "metadata": {},
   "outputs": [],
   "source": [
    "# Define cut number\n",
    "n = 20"
   ]
  },
  {
   "cell_type": "code",
   "execution_count": null,
   "metadata": {},
   "outputs": [
    {
     "name": "stdout",
     "output_type": "stream",
     "text": [
      "Main topics present in 14.49% of repositories.\n",
      "(4950, 1)\n"
     ]
    },
    {
     "data": {
      "text/html": [
       "<div>\n",
       "<style scoped>\n",
       "    .dataframe tbody tr th:only-of-type {\n",
       "        vertical-align: middle;\n",
       "    }\n",
       "\n",
       "    .dataframe tbody tr th {\n",
       "        vertical-align: top;\n",
       "    }\n",
       "\n",
       "    .dataframe thead th {\n",
       "        text-align: right;\n",
       "    }\n",
       "</style>\n",
       "<table border=\"1\" class=\"dataframe\">\n",
       "  <thead>\n",
       "    <tr style=\"text-align: right;\">\n",
       "      <th></th>\n",
       "      <th>count</th>\n",
       "    </tr>\n",
       "    <tr>\n",
       "      <th>topic</th>\n",
       "      <th></th>\n",
       "    </tr>\n",
       "  </thead>\n",
       "  <tbody>\n",
       "    <tr>\n",
       "      <th>hacktoberfest</th>\n",
       "      <td>216</td>\n",
       "    </tr>\n",
       "    <tr>\n",
       "      <th>javascript</th>\n",
       "      <td>200</td>\n",
       "    </tr>\n",
       "    <tr>\n",
       "      <th>react</th>\n",
       "      <td>180</td>\n",
       "    </tr>\n",
       "    <tr>\n",
       "      <th>typescript</th>\n",
       "      <td>139</td>\n",
       "    </tr>\n",
       "    <tr>\n",
       "      <th>nodejs</th>\n",
       "      <td>110</td>\n",
       "    </tr>\n",
       "    <tr>\n",
       "      <th>...</th>\n",
       "      <td>...</td>\n",
       "    </tr>\n",
       "    <tr>\n",
       "      <th>switch</th>\n",
       "      <td>1</td>\n",
       "    </tr>\n",
       "    <tr>\n",
       "      <th>gamecube</th>\n",
       "      <td>1</td>\n",
       "    </tr>\n",
       "    <tr>\n",
       "      <th>wii</th>\n",
       "      <td>1</td>\n",
       "    </tr>\n",
       "    <tr>\n",
       "      <th>wiiu</th>\n",
       "      <td>1</td>\n",
       "    </tr>\n",
       "    <tr>\n",
       "      <th>decompilation</th>\n",
       "      <td>1</td>\n",
       "    </tr>\n",
       "  </tbody>\n",
       "</table>\n",
       "<p>4950 rows × 1 columns</p>\n",
       "</div>"
      ],
      "text/plain": [
       "               count\n",
       "topic               \n",
       "hacktoberfest    216\n",
       "javascript       200\n",
       "react            180\n",
       "typescript       139\n",
       "nodejs           110\n",
       "...              ...\n",
       "switch             1\n",
       "gamecube           1\n",
       "wii                1\n",
       "wiiu               1\n",
       "decompilation      1\n",
       "\n",
       "[4950 rows x 1 columns]"
      ]
     },
     "metadata": {},
     "output_type": "display_data"
    },
    {
     "name": "stdout",
     "output_type": "stream",
     "text": [
      "['hacktoberfest', 'javascript', 'react', 'typescript', 'nodejs', 'python', 'docker', 'nextjs', 'golang', 'go', 'git', 'minecraft', 'java', 'vue', 'machine-learning', 'android', 'deep-learning', 'github', 'ios', 'cli']\n"
     ]
    },
    {
     "data": {
      "image/png": "[encoded data removed]",
      "text/plain": [
       "<Figure size 640x480 with 1 Axes>"
      ]
     },
     "metadata": {},
     "output_type": "display_data"
    }
   ],
   "source": [
    "topics = df_repo_topics[\"topic\"].value_counts().to_frame()\n",
    "topics_count = topics.sum()\n",
    "n_topics_count = topics[:n].sum()\n",
    "n_topics_name = df_repo_topics[\"topic\"].value_counts()[:n].index.to_list()\n",
    "print(\"Main topics present in {:.2f}% of repositories.\".format(float((n_topics_count / topics_count).iloc[0]) * 100))\n",
    "print(topics.shape)\n",
    "display(topics)\n",
    "topics[:n].plot.bar()\n",
    "print(n_topics_name)"
   ]
  },
  {
   "cell_type": "markdown",
   "metadata": {},
   "source": [
    "In the previous bar chart it is showed the first 20 most frequent topics treated in our repositories. However, they are only present in 15% of them, which shows us that our sample is widely distributed."
   ]
  },
  {
   "cell_type": "code",
   "execution_count": null,
   "metadata": {},
   "outputs": [
    {
     "data": {
      "text/html": [
       "<div>\n",
       "<style scoped>\n",
       "    .dataframe tbody tr th:only-of-type {\n",
       "        vertical-align: middle;\n",
       "    }\n",
       "\n",
       "    .dataframe tbody tr th {\n",
       "        vertical-align: top;\n",
       "    }\n",
       "\n",
       "    .dataframe thead th {\n",
       "        text-align: right;\n",
       "    }\n",
       "</style>\n",
       "<table border=\"1\" class=\"dataframe\">\n",
       "  <thead>\n",
       "    <tr style=\"text-align: right;\">\n",
       "      <th></th>\n",
       "      <th>count</th>\n",
       "    </tr>\n",
       "    <tr>\n",
       "      <th>mainLanguage</th>\n",
       "      <th></th>\n",
       "    </tr>\n",
       "  </thead>\n",
       "  <tbody>\n",
       "    <tr>\n",
       "      <th>TypeScript</th>\n",
       "      <td>368</td>\n",
       "    </tr>\n",
       "    <tr>\n",
       "      <th>JavaScript</th>\n",
       "      <td>309</td>\n",
       "    </tr>\n",
       "    <tr>\n",
       "      <th>Python</th>\n",
       "      <td>218</td>\n",
       "    </tr>\n",
       "    <tr>\n",
       "      <th>Go</th>\n",
       "      <td>160</td>\n",
       "    </tr>\n",
       "    <tr>\n",
       "      <th>Java</th>\n",
       "      <td>158</td>\n",
       "    </tr>\n",
       "    <tr>\n",
       "      <th>...</th>\n",
       "      <td>...</td>\n",
       "    </tr>\n",
       "    <tr>\n",
       "      <th>Roff</th>\n",
       "      <td>1</td>\n",
       "    </tr>\n",
       "    <tr>\n",
       "      <th>Smalltalk</th>\n",
       "      <td>1</td>\n",
       "    </tr>\n",
       "    <tr>\n",
       "      <th>PureScript</th>\n",
       "      <td>1</td>\n",
       "    </tr>\n",
       "    <tr>\n",
       "      <th>Less</th>\n",
       "      <td>1</td>\n",
       "    </tr>\n",
       "    <tr>\n",
       "      <th>Jsonnet</th>\n",
       "      <td>1</td>\n",
       "    </tr>\n",
       "  </tbody>\n",
       "</table>\n",
       "<p>78 rows × 1 columns</p>\n",
       "</div>"
      ],
      "text/plain": [
       "              count\n",
       "mainLanguage       \n",
       "TypeScript      368\n",
       "JavaScript      309\n",
       "Python          218\n",
       "Go              160\n",
       "Java            158\n",
       "...             ...\n",
       "Roff              1\n",
       "Smalltalk         1\n",
       "PureScript        1\n",
       "Less              1\n",
       "Jsonnet           1\n",
       "\n",
       "[78 rows x 1 columns]"
      ]
     },
     "metadata": {},
     "output_type": "display_data"
    },
    {
     "name": "stdout",
     "output_type": "stream",
     "text": [
      "Main topics present in 93.05% of repositories.\n",
      "(78, 1)\n"
     ]
    },
    {
     "data": {
      "text/html": [
       "<div>\n",
       "<style scoped>\n",
       "    .dataframe tbody tr th:only-of-type {\n",
       "        vertical-align: middle;\n",
       "    }\n",
       "\n",
       "    .dataframe tbody tr th {\n",
       "        vertical-align: top;\n",
       "    }\n",
       "\n",
       "    .dataframe thead th {\n",
       "        text-align: right;\n",
       "    }\n",
       "</style>\n",
       "<table border=\"1\" class=\"dataframe\">\n",
       "  <thead>\n",
       "    <tr style=\"text-align: right;\">\n",
       "      <th></th>\n",
       "      <th>count</th>\n",
       "    </tr>\n",
       "    <tr>\n",
       "      <th>mainLanguage</th>\n",
       "      <th></th>\n",
       "    </tr>\n",
       "  </thead>\n",
       "  <tbody>\n",
       "    <tr>\n",
       "      <th>TypeScript</th>\n",
       "      <td>368</td>\n",
       "    </tr>\n",
       "    <tr>\n",
       "      <th>JavaScript</th>\n",
       "      <td>309</td>\n",
       "    </tr>\n",
       "    <tr>\n",
       "      <th>Python</th>\n",
       "      <td>218</td>\n",
       "    </tr>\n",
       "    <tr>\n",
       "      <th>Go</th>\n",
       "      <td>160</td>\n",
       "    </tr>\n",
       "    <tr>\n",
       "      <th>Java</th>\n",
       "      <td>158</td>\n",
       "    </tr>\n",
       "    <tr>\n",
       "      <th>...</th>\n",
       "      <td>...</td>\n",
       "    </tr>\n",
       "    <tr>\n",
       "      <th>Roff</th>\n",
       "      <td>1</td>\n",
       "    </tr>\n",
       "    <tr>\n",
       "      <th>Smalltalk</th>\n",
       "      <td>1</td>\n",
       "    </tr>\n",
       "    <tr>\n",
       "      <th>PureScript</th>\n",
       "      <td>1</td>\n",
       "    </tr>\n",
       "    <tr>\n",
       "      <th>Less</th>\n",
       "      <td>1</td>\n",
       "    </tr>\n",
       "    <tr>\n",
       "      <th>Jsonnet</th>\n",
       "      <td>1</td>\n",
       "    </tr>\n",
       "  </tbody>\n",
       "</table>\n",
       "<p>78 rows × 1 columns</p>\n",
       "</div>"
      ],
      "text/plain": [
       "              count\n",
       "mainLanguage       \n",
       "TypeScript      368\n",
       "JavaScript      309\n",
       "Python          218\n",
       "Go              160\n",
       "Java            158\n",
       "...             ...\n",
       "Roff              1\n",
       "Smalltalk         1\n",
       "PureScript        1\n",
       "Less              1\n",
       "Jsonnet           1\n",
       "\n",
       "[78 rows x 1 columns]"
      ]
     },
     "metadata": {},
     "output_type": "display_data"
    },
    {
     "data": {
      "text/plain": [
       "<Axes: xlabel='mainLanguage'>"
      ]
     },
     "execution_count": 215,
     "metadata": {},
     "output_type": "execute_result"
    },
    {
     "data": {
      "image/png": "[encoded data removed]",
      "text/plain": [
       "<Figure size 640x480 with 1 Axes>"
      ]
     },
     "metadata": {},
     "output_type": "display_data"
    }
   ],
   "source": [
    "# Remove duplicates\n",
    "tmp = df_repo.drop(df_repo[df_repo[\"mainLanguage\"] == \"\"].index)\n",
    "languages = tmp[\"mainLanguage\"].value_counts().to_frame()\n",
    "display(languages)\n",
    "languages_count = languages.sum()\n",
    "n_languages_count = languages[:n].sum()\n",
    "print(\"Main topics present in {:.2f}% of repositories.\".format(float((n_languages_count / languages_count).iloc[0]) * 100))\n",
    "print(languages.shape)\n",
    "display(languages)\n",
    "languages[:n].plot.bar()"
   ]
  },
  {
   "cell_type": "markdown",
   "metadata": {},
   "source": [
    "The most used languages our repositories sample are languages oriented to web developing. Followed by Python, Go, Java and C++. These top used languages account for over 90% of the repositories."
   ]
  },
  {
   "cell_type": "code",
   "execution_count": null,
   "metadata": {},
   "outputs": [
    {
     "data": {
      "text/html": [
       "<div>\n",
       "<style scoped>\n",
       "    .dataframe tbody tr th:only-of-type {\n",
       "        vertical-align: middle;\n",
       "    }\n",
       "\n",
       "    .dataframe tbody tr th {\n",
       "        vertical-align: top;\n",
       "    }\n",
       "\n",
       "    .dataframe thead th {\n",
       "        text-align: right;\n",
       "    }\n",
       "</style>\n",
       "<table border=\"1\" class=\"dataframe\">\n",
       "  <thead>\n",
       "    <tr style=\"text-align: right;\">\n",
       "      <th></th>\n",
       "      <th>date</th>\n",
       "      <th>name</th>\n",
       "      <th>repositories</th>\n",
       "      <th>followers</th>\n",
       "    </tr>\n",
       "  </thead>\n",
       "  <tbody>\n",
       "    <tr>\n",
       "      <th>0</th>\n",
       "      <td>2024-03-04</td>\n",
       "      <td>nodejs</td>\n",
       "      <td>238297</td>\n",
       "      <td>77600</td>\n",
       "    </tr>\n",
       "    <tr>\n",
       "      <th>1</th>\n",
       "      <td>2024-03-04</td>\n",
       "      <td>javascript</td>\n",
       "      <td>510373</td>\n",
       "      <td>169000</td>\n",
       "    </tr>\n",
       "    <tr>\n",
       "      <th>4</th>\n",
       "      <td>2024-03-04</td>\n",
       "      <td>react</td>\n",
       "      <td>347483</td>\n",
       "      <td>98800</td>\n",
       "    </tr>\n",
       "    <tr>\n",
       "      <th>5</th>\n",
       "      <td>2024-03-04</td>\n",
       "      <td>nextjs</td>\n",
       "      <td>81661</td>\n",
       "      <td>1500</td>\n",
       "    </tr>\n",
       "    <tr>\n",
       "      <th>8</th>\n",
       "      <td>2024-03-04</td>\n",
       "      <td>vue</td>\n",
       "      <td>54146</td>\n",
       "      <td>59000</td>\n",
       "    </tr>\n",
       "    <tr>\n",
       "      <th>...</th>\n",
       "      <td>...</td>\n",
       "      <td>...</td>\n",
       "      <td>...</td>\n",
       "      <td>...</td>\n",
       "    </tr>\n",
       "    <tr>\n",
       "      <th>556</th>\n",
       "      <td>2024-05-12</td>\n",
       "      <td>react</td>\n",
       "      <td>356153</td>\n",
       "      <td>99800</td>\n",
       "    </tr>\n",
       "    <tr>\n",
       "      <th>557</th>\n",
       "      <td>2024-05-12</td>\n",
       "      <td>nextjs</td>\n",
       "      <td>86301</td>\n",
       "      <td>1600</td>\n",
       "    </tr>\n",
       "    <tr>\n",
       "      <th>560</th>\n",
       "      <td>2024-05-12</td>\n",
       "      <td>vue</td>\n",
       "      <td>54744</td>\n",
       "      <td>59300</td>\n",
       "    </tr>\n",
       "    <tr>\n",
       "      <th>563</th>\n",
       "      <td>2024-05-12</td>\n",
       "      <td>machine-learning</td>\n",
       "      <td>125070</td>\n",
       "      <td>76600</td>\n",
       "    </tr>\n",
       "    <tr>\n",
       "      <th>564</th>\n",
       "      <td>2024-05-12</td>\n",
       "      <td>deep-learning</td>\n",
       "      <td>67771</td>\n",
       "      <td>75400</td>\n",
       "    </tr>\n",
       "  </tbody>\n",
       "</table>\n",
       "<p>204 rows × 4 columns</p>\n",
       "</div>"
      ],
      "text/plain": [
       "           date              name  repositories  followers\n",
       "0    2024-03-04            nodejs        238297      77600\n",
       "1    2024-03-04        javascript        510373     169000\n",
       "4    2024-03-04             react        347483      98800\n",
       "5    2024-03-04            nextjs         81661       1500\n",
       "8    2024-03-04               vue         54146      59000\n",
       "..          ...               ...           ...        ...\n",
       "556  2024-05-12             react        356153      99800\n",
       "557  2024-05-12            nextjs         86301       1600\n",
       "560  2024-05-12               vue         54744      59300\n",
       "563  2024-05-12  machine-learning        125070      76600\n",
       "564  2024-05-12     deep-learning         67771      75400\n",
       "\n",
       "[204 rows x 4 columns]"
      ]
     },
     "metadata": {},
     "output_type": "display_data"
    }
   ],
   "source": [
    "df_topic_visits_n_cut = df_topic_visits[df_topic_visits[\"name\"].isin(n_topics_name)]\n",
    "df_topicv_repos = df_topic_visits_n_cut[[\"date\", \"name\", \"repositories\"]]\n",
    "n_topics_name\n",
    "display(df_topic_visits_n_cut)"
   ]
  },
  {
   "cell_type": "code",
   "execution_count": null,
   "metadata": {},
   "outputs": [
    {
     "data": {
      "text/plain": [
       "<Axes: xlabel='date'>"
      ]
     },
     "execution_count": 217,
     "metadata": {},
     "output_type": "execute_result"
    },
    {
     "data": {
      "image/png": "[encoded data removed]",
      "text/plain": [
       "<Figure size 640x480 with 1 Axes>"
      ]
     },
     "metadata": {},
     "output_type": "display_data"
    }
   ],
   "source": [
    "df_topicv_repos.pivot_table(index='date', columns=\"name\", values=\"repositories\", aggfunc=\"sum\").plot()"
   ]
  },
  {
   "cell_type": "markdown",
   "metadata": {},
   "source": [
    "O he fet algo fatal o vam actualitzar les dades només aquests tres dies i, per tant, no hi surt res interessant"
   ]
  },
  {
   "cell_type": "markdown",
   "metadata": {},
   "source": [
    "Volem ara veure una evolució de la popularitat dels repositoris tractant els temes que hem identificat com a principals. És a dir, volem veure com ha anat canviant el nombre d'estrelles que reben aquests repositoris. Aquesta és una bona oportunitat que tenim per a treballar els joins entre taules."
   ]
  },
  {
   "cell_type": "code",
   "execution_count": null,
   "metadata": {},
   "outputs": [
    {
     "name": "stdout",
     "output_type": "stream",
     "text": [
      "Query executed successfully!\n"
     ]
    },
    {
     "data": {
      "text/html": [
       "<div>\n",
       "<style scoped>\n",
       "    .dataframe tbody tr th:only-of-type {\n",
       "        vertical-align: middle;\n",
       "    }\n",
       "\n",
       "    .dataframe tbody tr th {\n",
       "        vertical-align: top;\n",
       "    }\n",
       "\n",
       "    .dataframe thead th {\n",
       "        text-align: right;\n",
       "    }\n",
       "</style>\n",
       "<table border=\"1\" class=\"dataframe\">\n",
       "  <thead>\n",
       "    <tr style=\"text-align: right;\">\n",
       "      <th></th>\n",
       "      <th>date</th>\n",
       "      <th>topic</th>\n",
       "      <th>stars</th>\n",
       "    </tr>\n",
       "  </thead>\n",
       "  <tbody>\n",
       "    <tr>\n",
       "      <th>0</th>\n",
       "      <td>2024-04-10</td>\n",
       "      <td>cli</td>\n",
       "      <td>14</td>\n",
       "    </tr>\n",
       "    <tr>\n",
       "      <th>1</th>\n",
       "      <td>2024-04-10</td>\n",
       "      <td>machine-learning</td>\n",
       "      <td>31</td>\n",
       "    </tr>\n",
       "    <tr>\n",
       "      <th>2</th>\n",
       "      <td>2024-04-10</td>\n",
       "      <td>android</td>\n",
       "      <td>24</td>\n",
       "    </tr>\n",
       "    <tr>\n",
       "      <th>3</th>\n",
       "      <td>2024-04-10</td>\n",
       "      <td>hacktoberfest</td>\n",
       "      <td>24</td>\n",
       "    </tr>\n",
       "    <tr>\n",
       "      <th>4</th>\n",
       "      <td>2024-04-10</td>\n",
       "      <td>docker</td>\n",
       "      <td>8</td>\n",
       "    </tr>\n",
       "  </tbody>\n",
       "</table>\n",
       "</div>"
      ],
      "text/plain": [
       "         date             topic stars\n",
       "0  2024-04-10               cli    14\n",
       "1  2024-04-10  machine-learning    31\n",
       "2  2024-04-10           android    24\n",
       "3  2024-04-10     hacktoberfest    24\n",
       "4  2024-04-10            docker     8"
      ]
     },
     "execution_count": 218,
     "metadata": {},
     "output_type": "execute_result"
    }
   ],
   "source": [
    "query = \"\"\"WITH RepositoriesMainTopics AS (\n",
    "\tSELECT repo AS name, topic\n",
    "    FROM RepositoryTopics\n",
    "    WHERE topic IN ('hacktoberfest', 'javascript', 'react', 'typescript', 'nodejs', 'python', 'docker', 'nextjs', 'golang', 'go', 'git', 'minecraft', 'java', 'vue', 'machine-learning', 'android', 'deep-learning', 'github', 'ios', 'cli')\n",
    "), TrendingTopic AS (\n",
    "\tSELECT date, repo_name AS name, topic,  starsToday as stars\n",
    "    FROM RepositoriesMainTopics\n",
    "    JOIN TrendVisits ON TrendVisits.repo_name = RepositoriesMainTopics.name\n",
    ")\n",
    "SELECT CAST(date AS Date) AS date, topic, SUM(stars) AS stars\n",
    "FROM TrendingTopic\n",
    "GROUP BY date, topic\"\"\"\n",
    "\"SELECT * FROM TrendVisits;\"\n",
    "_, df_trendRepositoriesMainTopics = execute_select_query(cursor, query)\n",
    "df_trendRepositoriesMainTopics.head(5)"
   ]
  },
  {
   "cell_type": "code",
   "execution_count": null,
   "metadata": {},
   "outputs": [
    {
     "data": {
      "text/plain": [
       "date      object\n",
       "topic     object\n",
       "stars    float64\n",
       "dtype: object"
      ]
     },
     "execution_count": 219,
     "metadata": {},
     "output_type": "execute_result"
    }
   ],
   "source": [
    "df_trendRepositoriesMainTopics[\"stars\"] = df_trendRepositoriesMainTopics[\"stars\"].astype(float)\n",
    "df_trendRepositoriesMainTopics.dtypes"
   ]
  },
  {
   "cell_type": "code",
   "execution_count": null,
   "metadata": {},
   "outputs": [
    {
     "data": {
      "text/plain": [
       "<Axes: xlabel='date'>"
      ]
     },
     "execution_count": 220,
     "metadata": {},
     "output_type": "execute_result"
    },
    {
     "data": {
      "image/png": "[encoded data removed]",
      "text/plain": [
       "<Figure size 640x480 with 1 Axes>"
      ]
     },
     "metadata": {},
     "output_type": "display_data"
    }
   ],
   "source": [
    "df_trendRepositoriesMainTopics.pivot_table(index='date', columns=\"topic\", values=\"stars\", aggfunc=\"sum\").plot()"
   ]
  },
  {
   "cell_type": "markdown",
   "metadata": {},
   "source": [
    "I de moment aquest gràfic no aporta res perquè les dades del moment van ser totes extretes el mateix dia."
   ]
  },
  {
   "cell_type": "markdown",
   "metadata": {},
   "source": [
    "## Overall structure of the repositories numerical data"
   ]
  },
  {
   "cell_type": "code",
   "execution_count": 383,
   "metadata": {},
   "outputs": [
    {
     "name": "stdout",
     "output_type": "stream",
     "text": [
      "Query executed successfully!\n"
     ]
    },
    {
     "data": {
      "text/html": [
       "<div>\n",
       "<style scoped>\n",
       "    .dataframe tbody tr th:only-of-type {\n",
       "        vertical-align: middle;\n",
       "    }\n",
       "\n",
       "    .dataframe tbody tr th {\n",
       "        vertical-align: top;\n",
       "    }\n",
       "\n",
       "    .dataframe thead th {\n",
       "        text-align: right;\n",
       "    }\n",
       "</style>\n",
       "<table border=\"1\" class=\"dataframe\">\n",
       "  <thead>\n",
       "    <tr style=\"text-align: right;\">\n",
       "      <th></th>\n",
       "      <th>id</th>\n",
       "      <th>forks</th>\n",
       "      <th>commits</th>\n",
       "      <th>stars</th>\n",
       "      <th>watchers</th>\n",
       "      <th>contributors</th>\n",
       "      <th>openIssues</th>\n",
       "      <th>closedIssues</th>\n",
       "      <th>mainLanguage</th>\n",
       "    </tr>\n",
       "  </thead>\n",
       "  <tbody>\n",
       "    <tr>\n",
       "      <th>0</th>\n",
       "      <td>Gegel85SokuAI</td>\n",
       "      <td>1</td>\n",
       "      <td>63</td>\n",
       "      <td>9</td>\n",
       "      <td>3</td>\n",
       "      <td>2</td>\n",
       "      <td>0</td>\n",
       "      <td>0</td>\n",
       "      <td>C++</td>\n",
       "    </tr>\n",
       "    <tr>\n",
       "      <th>1</th>\n",
       "      <td>SokuDevSokuLib</td>\n",
       "      <td>5</td>\n",
       "      <td>134</td>\n",
       "      <td>5</td>\n",
       "      <td>3</td>\n",
       "      <td>5</td>\n",
       "      <td>1</td>\n",
       "      <td>2</td>\n",
       "      <td>C</td>\n",
       "    </tr>\n",
       "    <tr>\n",
       "      <th>2</th>\n",
       "      <td>SokuDevSokuMods</td>\n",
       "      <td>10</td>\n",
       "      <td>583</td>\n",
       "      <td>38</td>\n",
       "      <td>3</td>\n",
       "      <td>4</td>\n",
       "      <td>6</td>\n",
       "      <td>10</td>\n",
       "      <td>C++</td>\n",
       "    </tr>\n",
       "    <tr>\n",
       "      <th>3</th>\n",
       "      <td>Gegel85SoFGV</td>\n",
       "      <td>1</td>\n",
       "      <td>505</td>\n",
       "      <td>5</td>\n",
       "      <td>1</td>\n",
       "      <td>2</td>\n",
       "      <td>0</td>\n",
       "      <td>0</td>\n",
       "      <td>C++</td>\n",
       "    </tr>\n",
       "    <tr>\n",
       "      <th>4</th>\n",
       "      <td>Gegel85GBEmulator</td>\n",
       "      <td>0</td>\n",
       "      <td>485</td>\n",
       "      <td>0</td>\n",
       "      <td>2</td>\n",
       "      <td>4</td>\n",
       "      <td>0</td>\n",
       "      <td>6</td>\n",
       "      <td>C++</td>\n",
       "    </tr>\n",
       "  </tbody>\n",
       "</table>\n",
       "</div>"
      ],
      "text/plain": [
       "                  id  forks  commits  stars  watchers  contributors  \\\n",
       "0      Gegel85SokuAI      1       63      9         3             2   \n",
       "1     SokuDevSokuLib      5      134      5         3             5   \n",
       "2    SokuDevSokuMods     10      583     38         3             4   \n",
       "3       Gegel85SoFGV      1      505      5         1             2   \n",
       "4  Gegel85GBEmulator      0      485      0         2             4   \n",
       "\n",
       "   openIssues  closedIssues mainLanguage  \n",
       "0           0             0          C++  \n",
       "1           1             2            C  \n",
       "2           6            10          C++  \n",
       "3           0             0          C++  \n",
       "4           0             6          C++  "
      ]
     },
     "execution_count": 383,
     "metadata": {},
     "output_type": "execute_result"
    }
   ],
   "source": [
    "query = \"\"\"SELECT CONCAT(RepositoryVisits.owner,RepositoryVisits.name) AS id, forks, commits, stars, watchers, contributors, openIssues, closedIssues, mainLanguage\n",
    "FROM RepositoryVisits\n",
    "JOIN Repositories ON RepositoryVisits.owner = Repositories.owner AND RepositoryVisits.name = Repositories.name\n",
    "WHERE CAST(date AS Date) = '2024-04-16'\n",
    "\"\"\"\n",
    "\n",
    "_, df = execute_select_query(cursor, query)\n",
    "df.head(5)\n"
   ]
  },
  {
   "cell_type": "code",
   "execution_count": 384,
   "metadata": {},
   "outputs": [
    {
     "name": "stdout",
     "output_type": "stream",
     "text": [
      "0.0\n",
      "10383.749999999996\n",
      "8.0\n",
      "9635.449999999975\n",
      "3.0\n",
      "32281.6\n",
      "2.0\n",
      "367.29999999999905\n",
      "1.0\n",
      "233.94999999999993\n",
      "0.0\n",
      "218.10000000000014\n",
      "0.0\n",
      "802.4999999999993\n"
     ]
    },
    {
     "data": {
      "text/html": [
       "<div>\n",
       "<style scoped>\n",
       "    .dataframe tbody tr th:only-of-type {\n",
       "        vertical-align: middle;\n",
       "    }\n",
       "\n",
       "    .dataframe tbody tr th {\n",
       "        vertical-align: top;\n",
       "    }\n",
       "\n",
       "    .dataframe thead th {\n",
       "        text-align: right;\n",
       "    }\n",
       "</style>\n",
       "<table border=\"1\" class=\"dataframe\">\n",
       "  <thead>\n",
       "    <tr style=\"text-align: right;\">\n",
       "      <th></th>\n",
       "      <th>id</th>\n",
       "      <th>forks</th>\n",
       "      <th>commits</th>\n",
       "      <th>stars</th>\n",
       "      <th>watchers</th>\n",
       "      <th>contributors</th>\n",
       "      <th>openIssues</th>\n",
       "      <th>closedIssues</th>\n",
       "      <th>mainLanguage</th>\n",
       "    </tr>\n",
       "  </thead>\n",
       "  <tbody>\n",
       "    <tr>\n",
       "      <th>0</th>\n",
       "      <td>Gegel85SokuAI</td>\n",
       "      <td>1</td>\n",
       "      <td>63</td>\n",
       "      <td>9</td>\n",
       "      <td>3</td>\n",
       "      <td>2</td>\n",
       "      <td>0</td>\n",
       "      <td>0</td>\n",
       "      <td>C++</td>\n",
       "    </tr>\n",
       "    <tr>\n",
       "      <th>1</th>\n",
       "      <td>SokuDevSokuLib</td>\n",
       "      <td>5</td>\n",
       "      <td>134</td>\n",
       "      <td>5</td>\n",
       "      <td>3</td>\n",
       "      <td>5</td>\n",
       "      <td>1</td>\n",
       "      <td>2</td>\n",
       "      <td>C</td>\n",
       "    </tr>\n",
       "    <tr>\n",
       "      <th>2</th>\n",
       "      <td>SokuDevSokuMods</td>\n",
       "      <td>10</td>\n",
       "      <td>583</td>\n",
       "      <td>38</td>\n",
       "      <td>3</td>\n",
       "      <td>4</td>\n",
       "      <td>6</td>\n",
       "      <td>10</td>\n",
       "      <td>C++</td>\n",
       "    </tr>\n",
       "    <tr>\n",
       "      <th>6</th>\n",
       "      <td>openstatesopenstates.org</td>\n",
       "      <td>52</td>\n",
       "      <td>2221</td>\n",
       "      <td>60</td>\n",
       "      <td>13</td>\n",
       "      <td>20</td>\n",
       "      <td>11</td>\n",
       "      <td>250</td>\n",
       "      <td>Python</td>\n",
       "    </tr>\n",
       "    <tr>\n",
       "      <th>8</th>\n",
       "      <td>openstatesopenstates-core</td>\n",
       "      <td>23</td>\n",
       "      <td>3350</td>\n",
       "      <td>20</td>\n",
       "      <td>10</td>\n",
       "      <td>34</td>\n",
       "      <td>1</td>\n",
       "      <td>116</td>\n",
       "      <td>Python</td>\n",
       "    </tr>\n",
       "  </tbody>\n",
       "</table>\n",
       "</div>"
      ],
      "text/plain": [
       "                          id  forks  commits  stars  watchers  contributors  \\\n",
       "0              Gegel85SokuAI      1       63      9         3             2   \n",
       "1             SokuDevSokuLib      5      134      5         3             5   \n",
       "2            SokuDevSokuMods     10      583     38         3             4   \n",
       "6   openstatesopenstates.org     52     2221     60        13            20   \n",
       "8  openstatesopenstates-core     23     3350     20        10            34   \n",
       "\n",
       "   openIssues  closedIssues mainLanguage  \n",
       "0           0             0          C++  \n",
       "1           1             2            C  \n",
       "2           6            10          C++  \n",
       "6          11           250       Python  \n",
       "8           1           116       Python  "
      ]
     },
     "execution_count": 384,
     "metadata": {},
     "output_type": "execute_result"
    }
   ],
   "source": [
    "# Just keep most used languages\n",
    "top_languages = df_repo['mainLanguage'].value_counts()[:10].index.tolist()\n",
    "\n",
    "df = df[df['mainLanguage'].isin(top_languages)]\n",
    "\n",
    "# Remove outliers\n",
    "for column in df:\n",
    "    if (df[column].dtype) != \"O\":\n",
    "        q_low = df[column].quantile(0.05)\n",
    "        q_high = df[column].quantile(0.95)\n",
    "        print(q_low)\n",
    "        print(q_high)\n",
    "        df = df[(df[column] <= q_high) & (df[column] >= q_low)]\n",
    "df.head(5)\n"
   ]
  },
  {
   "cell_type": "code",
   "execution_count": 385,
   "metadata": {},
   "outputs": [
    {
     "name": "stdout",
     "output_type": "stream",
     "text": [
      "0                Gegel85SokuAI\n",
      "1               SokuDevSokuLib\n",
      "2              SokuDevSokuMods\n",
      "6     openstatesopenstates.org\n",
      "8    openstatesopenstates-core\n",
      "Name: id, dtype: object\n"
     ]
    }
   ],
   "source": [
    "labels = df[\"id\"]\n",
    "print(labels[0:5])"
   ]
  },
  {
   "cell_type": "code",
   "execution_count": 386,
   "metadata": {},
   "outputs": [
    {
     "name": "stdout",
     "output_type": "stream",
     "text": [
      "[[   1   63    9    3    2    0    0]\n",
      " [   5  134    5    3    5    1    2]\n",
      " [  10  583   38    3    4    6   10]\n",
      " [  52 2221   60   13   20   11  250]\n",
      " [  23 3350   20   10   34    1  116]]\n"
     ]
    }
   ],
   "source": [
    "# Split numerical data.\n",
    "X = df.iloc[:,1:-1].values\n",
    "print(X[:5,:])"
   ]
  },
  {
   "cell_type": "code",
   "execution_count": 387,
   "metadata": {},
   "outputs": [
    {
     "name": "stdout",
     "output_type": "stream",
     "text": [
      "[[-0.40153821 -0.55277462 -0.42921017 -0.57745333 -0.56982125 -0.51986197\n",
      "  -0.4692901 ]\n",
      " [-0.39592851 -0.48675674 -0.43024268 -0.57745333 -0.49235269 -0.4873528\n",
      "  -0.45571333]\n",
      " [-0.38891638 -0.06926333 -0.42172448 -0.57745333 -0.51817554 -0.32480698\n",
      "  -0.40140626]\n",
      " [-0.33001451  1.45379723 -0.41604569 -0.42152509 -0.10500992 -0.16226116\n",
      "   1.22780575]\n",
      " [-0.37068485  2.50357462 -0.42637077 -0.46830357  0.25651001 -0.4873528\n",
      "   0.31816238]]\n"
     ]
    }
   ],
   "source": [
    "# Standarize\n",
    "X_std = StandardScaler().fit_transform(X)\n",
    "print(X_std[0:5])"
   ]
  },
  {
   "cell_type": "code",
   "execution_count": 388,
   "metadata": {},
   "outputs": [
    {
     "name": "stdout",
     "output_type": "stream",
     "text": [
      "[[ 0.43760983  0.26594684  0.46748178  0.43431033  0.38299658  0.28250139\n",
      "   0.32266364]\n",
      " [ 0.38489783 -0.3527957   0.28972687  0.38187129 -0.23801694 -0.44594982\n",
      "  -0.49203477]]\n",
      "0.6527642522142434\n",
      "[[-1.29069178  0.29396526]\n",
      " [-1.22792754  0.23291793]\n",
      " [-1.05629354 -0.00226702]\n",
      " [ 0.17475954 -1.42819187]\n",
      " [ 0.16411684 -1.3285547 ]]\n",
      "12.339496271200353\n"
     ]
    }
   ],
   "source": [
    "pca = PCA(n_components=2)\n",
    "X_pca = pca.fit_transform(X_std)\n",
    "print(pca.components_)\n",
    "print(sum(pca.explained_variance_ratio_))\n",
    "print(X_pca[:5])\n",
    "print(max(X_std[:,0]))"
   ]
  },
  {
   "cell_type": "code",
   "execution_count": 389,
   "metadata": {},
   "outputs": [],
   "source": [
    "top_languages = df_repo['mainLanguage'].value_counts()[:10].index.tolist()\n",
    "cmap = plt.get_cmap('viridis')\n",
    "colors = [cmap(i) for i in np.linspace(0, 1, 10)]\n",
    "#color_map = dict(zip(l, colors))\n",
    "color_map = {'C': (0,0.9,1,1),\n",
    " 'C#': (0.79,0,1,1),\n",
    " 'C++': (0,0.4,1,1),\n",
    " 'Go': (1,0.6,0,1),\n",
    " 'HTML': (1,0.94,0,1),\n",
    " 'Java': (1,0,0,1),\n",
    " 'JavaScript': (1,1,0,1),\n",
    " 'Python': (0,1,0.2,1),\n",
    " 'Shell': (0.6,0.6,0.6,1),\n",
    " 'TypeScript': (0.9,1,0,1)}"
   ]
  },
  {
   "cell_type": "code",
   "execution_count": 390,
   "metadata": {},
   "outputs": [
    {
     "data": {
      "image/png": "[encoded data removed]",
      "text/plain": [
       "<Figure size 640x480 with 1 Axes>"
      ]
     },
     "metadata": {},
     "output_type": "display_data"
    }
   ],
   "source": [
    "\n",
    "scatter = plt.scatter(X_pca[:,0], X_pca[:,1], c = df[\"mainLanguage\"].map(color_map), alpha=0.5)\n",
    "\n",
    "legend_handles = [mpatches.Patch(color=color_map[language], label=language) for language in top_languages]\n",
    "plt.legend(handles=legend_handles, title='Languages')\n",
    "plt.show()"
   ]
  },
  {
   "cell_type": "code",
   "execution_count": 361,
   "metadata": {},
   "outputs": [
    {
     "data": {
      "text/plain": [
       "{'HTML': (0.267004, 0.004874, 0.329415, 1.0),\n",
       " 'TypeScript': (0.281412, 0.155834, 0.469201, 1.0),\n",
       " 'C': (0.244972, 0.287675, 0.53726, 1.0),\n",
       " 'Shell': (0.190631, 0.407061, 0.556089, 1.0),\n",
       " 'Go': (0.147607, 0.511733, 0.557049, 1.0),\n",
       " 'C#': (0.119699, 0.61849, 0.536347, 1.0),\n",
       " 'C++': (0.20803, 0.718701, 0.472873, 1.0),\n",
       " 'Python': (0.430983, 0.808473, 0.346476, 1.0),\n",
       " 'JavaScript': (0.709898, 0.868751, 0.169257, 1.0),\n",
       " 'Java': (0.993248, 0.906157, 0.143936, 1.0)}"
      ]
     },
     "execution_count": 361,
     "metadata": {},
     "output_type": "execute_result"
    }
   ],
   "source": [
    "color_map"
   ]
  },
  {
   "cell_type": "code",
   "execution_count": 364,
   "metadata": {},
   "outputs": [],
   "source": [
    "# Closes the connection\n",
    "dataBaseConnection.close() "
   ]
  }
 ],
 "metadata": {
  "kernelspec": {
   "display_name": "base",
   "language": "python",
   "name": "python3"
  },
  "language_info": {
   "codemirror_mode": {
    "name": "ipython",
    "version": 3
   },
   "file_extension": ".py",
   "mimetype": "text/x-python",
   "name": "python",
   "nbconvert_exporter": "python",
   "pygments_lexer": "ipython3",
   "version": "3.11.5"
  }
 },
 "nbformat": 4,
 "nbformat_minor": 4
}
